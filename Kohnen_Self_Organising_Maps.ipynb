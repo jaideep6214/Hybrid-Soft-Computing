{
  "nbformat": 4,
  "nbformat_minor": 0,
  "metadata": {
    "colab": {
      "name": "Kohnen_Self_Organising_Maps.ipynb",
      "provenance": [],
      "authorship_tag": "ABX9TyPJ/cK3H++FRJ94i7tujhKX",
      "include_colab_link": true
    },
    "kernelspec": {
      "name": "python3",
      "display_name": "Python 3"
    }
  },
  "cells": [
    {
      "cell_type": "markdown",
      "metadata": {
        "id": "view-in-github",
        "colab_type": "text"
      },
      "source": [
        "<a href=\"https://colab.research.google.com/github/jaideep6214/Hybrid-Soft-Computing/blob/main/Kohnen_Self_Organising_Maps.ipynb\" target=\"_parent\"><img src=\"https://colab.research.google.com/assets/colab-badge.svg\" alt=\"Open In Colab\"/></a>"
      ]
    },
    {
      "cell_type": "code",
      "metadata": {
        "id": "D96YYGeAcvE2"
      },
      "source": [
        "class Kohnen():\n",
        "  def __init__(self,x,w,alpha):\n",
        "    self.x=x\n",
        "    self.w=w\n",
        "    self.alpha=alpha\n",
        "\n",
        "\n",
        "  def train(self):\n",
        "    for z in range(len(self.x)):\n",
        "      index=0\n",
        "      d_max=0\n",
        "      for i in range(len(self.w[0])):\n",
        "        d=0\n",
        "        for y in range(len(self.w)):\n",
        "          print(z,i,y)\n",
        "          d=d+((self.x[z][y]-self.w[y][i])**2)\n",
        "        if(d_max<d):\n",
        "          d_max=d\n",
        "          index=i\n",
        "      print(\"Max of d is \"+str(d_max)+\" at index \"+str(index))\n",
        "      for y in range(len(self.w)):\n",
        "        self.w[y][index]=self.w[y][index]+(self.alpha*(self.x[z][y]-self.w[y][index]))\n",
        "      print(\"Weight is \"+str(self.w))"
      ],
      "execution_count": 15,
      "outputs": []
    },
    {
      "cell_type": "code",
      "metadata": {
        "id": "hXDB8yozg8Ls"
      },
      "source": [
        "x=[[0,0,1,1],[1,0,0,0],[0,1,1,0],[0,0,0,1]]\n",
        "w=[[0.2,0.9],[0.4,0.7],[0.6,0.5],[0.8,0.3]]\n",
        "alpha=0.5\n",
        "K1=Kohnen(x,w,alpha)"
      ],
      "execution_count": 16,
      "outputs": []
    },
    {
      "cell_type": "code",
      "metadata": {
        "id": "YK_CxfjwhXKl",
        "outputId": "c5c2bbe6-9c96-4f2b-e040-295e2130453b",
        "colab": {
          "base_uri": "https://localhost:8080/"
        }
      },
      "source": [
        "K1.train()"
      ],
      "execution_count": 17,
      "outputs": [
        {
          "output_type": "stream",
          "text": [
            "0 0 0\n",
            "0 0 1\n",
            "0 0 2\n",
            "0 0 3\n",
            "0 1 0\n",
            "0 1 1\n",
            "0 1 2\n",
            "0 1 3\n",
            "Max of d is 2.04 at index 1\n",
            "Weight is [[0.2, 0.45], [0.4, 0.35], [0.6, 0.75], [0.8, 0.6499999999999999]]\n",
            "1 0 0\n",
            "1 0 1\n",
            "1 0 2\n",
            "1 0 3\n",
            "1 1 0\n",
            "1 1 1\n",
            "1 1 2\n",
            "1 1 3\n",
            "Max of d is 1.8000000000000003 at index 0\n",
            "Weight is [[0.6000000000000001, 0.45], [0.2, 0.35], [0.3, 0.75], [0.4, 0.6499999999999999]]\n",
            "2 0 0\n",
            "2 0 1\n",
            "2 0 2\n",
            "2 0 3\n",
            "2 1 0\n",
            "2 1 1\n",
            "2 1 2\n",
            "2 1 3\n",
            "Max of d is 1.6500000000000004 at index 0\n",
            "Weight is [[0.30000000000000004, 0.45], [0.6000000000000001, 0.35], [0.6499999999999999, 0.75], [0.2, 0.6499999999999999]]\n",
            "3 0 0\n",
            "3 0 1\n",
            "3 0 2\n",
            "3 0 3\n",
            "3 1 0\n",
            "3 1 1\n",
            "3 1 2\n",
            "3 1 3\n",
            "Max of d is 1.5125000000000002 at index 0\n",
            "Weight is [[0.15000000000000002, 0.45], [0.30000000000000004, 0.35], [0.32499999999999996, 0.75], [0.6000000000000001, 0.6499999999999999]]\n"
          ],
          "name": "stdout"
        }
      ]
    },
    {
      "cell_type": "code",
      "metadata": {
        "id": "7QJQX6i0hbPY"
      },
      "source": [
        ""
      ],
      "execution_count": null,
      "outputs": []
    }
  ]
}