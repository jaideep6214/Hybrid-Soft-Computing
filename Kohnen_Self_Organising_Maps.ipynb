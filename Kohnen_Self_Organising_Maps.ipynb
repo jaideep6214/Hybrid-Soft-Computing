{
  "nbformat": 4,
  "nbformat_minor": 0,
  "metadata": {
    "colab": {
      "name": "Kohnen_Self_Organising_Maps.ipynb",
      "provenance": [],
      "authorship_tag": "ABX9TyMwhw7h9QHvZsWgaxJ4rRhC",
      "include_colab_link": true
    },
    "kernelspec": {
      "name": "python3",
      "display_name": "Python 3"
    }
  },
  "cells": [
    {
      "cell_type": "markdown",
      "metadata": {
        "id": "view-in-github",
        "colab_type": "text"
      },
      "source": [
        "<a href=\"https://colab.research.google.com/github/jaideep6214/Hybrid-Soft-Computing/blob/main/Kohnen_Self_Organising_Maps.ipynb\" target=\"_parent\"><img src=\"https://colab.research.google.com/assets/colab-badge.svg\" alt=\"Open In Colab\"/></a>"
      ]
    },
    {
      "cell_type": "code",
      "metadata": {
        "id": "D96YYGeAcvE2"
      },
      "source": [
        "class Kohnen():\n",
        "  def __init__(self,x,w,alpha):\n",
        "    self.x=x\n",
        "    self.w=w\n",
        "    self.alpha=alpha\n",
        "\n",
        "  def itteration(self,n):\n",
        "    for i in range(n):\n",
        "      print()\n",
        "      print()\n",
        "      print(\"Itteration no:\"+str(i+1))\n",
        "      self.train()\n",
        "\n",
        "\n",
        "  def train(self):\n",
        "    print(\"Initial Weights :\"+str(self.w))\n",
        "    print(\"Initial Alpha :\"+str(self.alpha))\n",
        "    print()\n",
        "    for z in range(len(self.x)):\n",
        "      index=0\n",
        "      d_min=9999\n",
        "      for i in range(len(self.w[0])):\n",
        "        d=0\n",
        "        for y in range(len(self.w)):\n",
        "          d=d+((self.x[z][y]-self.w[y][i])**2)\n",
        "        print(\"D\"+str(i+1)+\" =\"+str(d))\n",
        "        if(d_min>d):\n",
        "          d_min=d\n",
        "          index=i\n",
        "      print(\"Min of d is \"+str(d_min)+\" at index \"+str(index))\n",
        "      for y in range(len(self.w)):\n",
        "        self.w[y][index]=self.w[y][index]+(self.alpha*(self.x[z][y]-self.w[y][index]))\n",
        "      print(\"Weight is \"+str(self.w))\n",
        "    self.alpha=0.5*self.alpha\n",
        "    print()\n",
        "    print(\"Updated Alpha :\"+str(self.alpha))\n",
        "    "
      ],
      "execution_count": 41,
      "outputs": []
    },
    {
      "cell_type": "code",
      "metadata": {
        "id": "hXDB8yozg8Ls"
      },
      "source": [
        "x=[[0,0,1,1],[1,0,0,0],[0,1,1,0],[0,0,0,1]]\n",
        "w=[[0.2,0.9],[0.4,0.7],[0.6,0.5],[0.8,0.3]]\n",
        "alpha=0.5\n",
        "K1=Kohnen(x,w,alpha)"
      ],
      "execution_count": 42,
      "outputs": []
    },
    {
      "cell_type": "code",
      "metadata": {
        "id": "YK_CxfjwhXKl",
        "outputId": "ede89837-9773-4b5e-842f-f90f1d9fa8e2",
        "colab": {
          "base_uri": "https://localhost:8080/"
        }
      },
      "source": [
        "K1.itteration(2)"
      ],
      "execution_count": 43,
      "outputs": [
        {
          "output_type": "stream",
          "text": [
            "\n",
            "\n",
            "Itteration no:1\n",
            "Initial Weights :[[0.2, 0.9], [0.4, 0.7], [0.6, 0.5], [0.8, 0.3]]\n",
            "Initial Alpha :0.5\n",
            "\n",
            "D1 =0.4000000000000001\n",
            "D2 =2.04\n",
            "Min of d is 0.4000000000000001 at index 0\n",
            "Weight is [[0.1, 0.9], [0.2, 0.7], [0.8, 0.5], [0.9, 0.3]]\n",
            "D1 =2.3000000000000003\n",
            "D2 =0.84\n",
            "Min of d is 0.84 at index 1\n",
            "Weight is [[0.1, 0.95], [0.2, 0.35], [0.8, 0.25], [0.9, 0.15]]\n",
            "D1 =1.5000000000000002\n",
            "D2 =1.91\n",
            "Min of d is 1.5000000000000002 at index 0\n",
            "Weight is [[0.05, 0.95], [0.6000000000000001, 0.35], [0.9, 0.25], [0.45, 0.15]]\n",
            "D1 =1.475\n",
            "D2 =1.8099999999999998\n",
            "Min of d is 1.475 at index 0\n",
            "Weight is [[0.025, 0.95], [0.30000000000000004, 0.35], [0.45, 0.25], [0.7250000000000001, 0.15]]\n",
            "\n",
            "Updated Alpha :0.25\n",
            "\n",
            "\n",
            "Itteration no:2\n",
            "Initial Weights :[[0.025, 0.95], [0.30000000000000004, 0.35], [0.45, 0.25], [0.7250000000000001, 0.15]]\n",
            "Initial Alpha :0.25\n",
            "\n",
            "D1 =0.46875\n",
            "D2 =2.3099999999999996\n",
            "Min of d is 0.46875 at index 0\n",
            "Weight is [[0.018750000000000003, 0.95], [0.22500000000000003, 0.35], [0.5875, 0.25], [0.7937500000000001, 0.15]]\n",
            "D1 =1.988671875\n",
            "D2 =0.21\n",
            "Min of d is 0.21 at index 1\n",
            "Weight is [[0.018750000000000003, 0.9624999999999999], [0.22500000000000003, 0.26249999999999996], [0.5875, 0.1875], [0.7937500000000001, 0.11249999999999999]]\n",
            "D1 =1.401171875\n",
            "D2 =2.143125\n",
            "Min of d is 1.401171875 at index 0\n",
            "Weight is [[0.014062500000000002, 0.9624999999999999], [0.41875, 0.26249999999999996], [0.690625, 0.1875], [0.5953125, 0.11249999999999999]]\n",
            "D1 =0.8162841796875001\n",
            "D2 =1.8181249999999998\n",
            "Min of d is 0.8162841796875001 at index 0\n",
            "Weight is [[0.010546875, 0.9624999999999999], [0.3140625, 0.26249999999999996], [0.5179687500000001, 0.1875], [0.696484375, 0.11249999999999999]]\n",
            "\n",
            "Updated Alpha :0.125\n"
          ],
          "name": "stdout"
        }
      ]
    },
    {
      "cell_type": "code",
      "metadata": {
        "id": "7QJQX6i0hbPY"
      },
      "source": [
        "x=[[0.2,0.4]]\n",
        "w=[[0.3,0.2,0.1,0.8,0.4],[0.5,0.6,0.7,0.9,0.2]]\n",
        "alpha=0.2\n",
        "K2=Kohnen(x,w,alpha)"
      ],
      "execution_count": 44,
      "outputs": []
    },
    {
      "cell_type": "code",
      "metadata": {
        "id": "gwCNQbFEkEGy",
        "outputId": "02a5e0cd-a22e-44aa-e8db-03f6edc034ec",
        "colab": {
          "base_uri": "https://localhost:8080/"
        }
      },
      "source": [
        "K2.train()"
      ],
      "execution_count": 45,
      "outputs": [
        {
          "output_type": "stream",
          "text": [
            "Initial Weights :[[0.3, 0.2, 0.1, 0.8, 0.4], [0.5, 0.6, 0.7, 0.9, 0.2]]\n",
            "Initial Alpha :0.2\n",
            "\n",
            "D1 =0.01999999999999999\n",
            "D2 =0.03999999999999998\n",
            "D3 =0.09999999999999995\n",
            "D4 =0.6100000000000001\n",
            "D5 =0.08000000000000002\n",
            "Min of d is 0.01999999999999999 at index 0\n",
            "Weight is [[0.27999999999999997, 0.2, 0.1, 0.8, 0.4], [0.48, 0.6, 0.7, 0.9, 0.2]]\n",
            "\n",
            "Updated Alpha :0.1\n"
          ],
          "name": "stdout"
        }
      ]
    },
    {
      "cell_type": "code",
      "metadata": {
        "id": "eoKbvN2ekqwD"
      },
      "source": [
        "x=[[0.6,0.6]]\n",
        "w=[[0.3,0.2,0.1,0.8,0.4],[0.5,0.6,0.7,0.9,0.2]]\n",
        "alpha=0.1\n",
        "K3=Kohnen(x,w,alpha)"
      ],
      "execution_count": 46,
      "outputs": []
    },
    {
      "cell_type": "code",
      "metadata": {
        "id": "uJsC76CxlJuX",
        "outputId": "f900d176-e865-4a60-f9bf-382c2ac0178d",
        "colab": {
          "base_uri": "https://localhost:8080/"
        }
      },
      "source": [
        "K3.train()"
      ],
      "execution_count": 47,
      "outputs": [
        {
          "output_type": "stream",
          "text": [
            "Initial Weights :[[0.3, 0.2, 0.1, 0.8, 0.4], [0.5, 0.6, 0.7, 0.9, 0.2]]\n",
            "Initial Alpha :0.1\n",
            "\n",
            "D1 =0.09999999999999999\n",
            "D2 =0.15999999999999998\n",
            "D3 =0.26\n",
            "D4 =0.13000000000000006\n",
            "D5 =0.19999999999999996\n",
            "Min of d is 0.09999999999999999 at index 0\n",
            "Weight is [[0.32999999999999996, 0.2, 0.1, 0.8, 0.4], [0.51, 0.6, 0.7, 0.9, 0.2]]\n",
            "\n",
            "Updated Alpha :0.05\n"
          ],
          "name": "stdout"
        }
      ]
    },
    {
      "cell_type": "code",
      "metadata": {
        "id": "CxUH5dc4lSzO"
      },
      "source": [
        "x=[[0.0,0.5,1.0,0.5,0.0]]\n",
        "w=[[1.0,0.3],[0.9,0.5],[0.7,0.7],[0.5,0.9],[0.3,1.0]]\n",
        "alpha=0.25\n",
        "K4=Kohnen(x,w,alpha)"
      ],
      "execution_count": 49,
      "outputs": []
    },
    {
      "cell_type": "code",
      "metadata": {
        "id": "PzlNfOzulYGr",
        "outputId": "a53cacef-c45f-42e1-88d0-d6db0ecfc115",
        "colab": {
          "base_uri": "https://localhost:8080/"
        }
      },
      "source": [
        "K4.train()"
      ],
      "execution_count": 50,
      "outputs": [
        {
          "output_type": "stream",
          "text": [
            "Initial Weights :[[1.0, 0.3], [0.9, 0.5], [0.7, 0.7], [0.5, 0.9], [0.3, 1.0]]\n",
            "Initial Alpha :0.25\n",
            "\n",
            "D1 =1.3400000000000003\n",
            "D2 =1.34\n",
            "Min of d is 1.34 at index 1\n",
            "Weight is [[1.0, 0.22499999999999998], [0.9, 0.5], [0.7, 0.7749999999999999], [0.5, 0.8], [0.3, 0.75]]\n",
            "\n",
            "Updated Alpha :0.125\n"
          ],
          "name": "stdout"
        }
      ]
    },
    {
      "cell_type": "code",
      "metadata": {
        "id": "mC5g2qYkmJJI"
      },
      "source": [
        ""
      ],
      "execution_count": null,
      "outputs": []
    }
  ]
}