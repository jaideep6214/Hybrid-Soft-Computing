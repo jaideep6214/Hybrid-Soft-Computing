{
  "nbformat": 4,
  "nbformat_minor": 0,
  "metadata": {
    "colab": {
      "name": "Mexican.ipynb",
      "provenance": [],
      "authorship_tag": "ABX9TyPkyDtXStDrfS89DkcZY6sI",
      "include_colab_link": true
    },
    "kernelspec": {
      "name": "python3",
      "display_name": "Python 3"
    }
  },
  "cells": [
    {
      "cell_type": "markdown",
      "metadata": {
        "id": "view-in-github",
        "colab_type": "text"
      },
      "source": [
        "<a href=\"https://colab.research.google.com/github/jaideep6214/Hybrid-Soft-Computing/blob/main/Mexican.ipynb\" target=\"_parent\"><img src=\"https://colab.research.google.com/assets/colab-badge.svg\" alt=\"Open In Colab\"/></a>"
      ]
    },
    {
      "cell_type": "code",
      "metadata": {
        "id": "KaGbaG5OL8eB"
      },
      "source": [
        "class MexicanNet():\n",
        "  def __init__(self,x,tmax,R1,R2,c1,c2):\n",
        "    self.x=x\n",
        "    self.tmax=tmax\n",
        "    self.R1=R1\n",
        "    self.R2=R2\n",
        "    self.c1=c1\n",
        "    self.c2=c2\n",
        "  def epoch(self):\n",
        "    t=1\n",
        "    while(t<=self.tmax):\n",
        "      print(\"For t=\"+str(t))\n",
        "      self.train()\n",
        "      t+=1\n",
        "\n",
        "  def train(self):\n",
        "\n",
        "    s=[0 for i in range(len(self.x))]\n",
        "\n",
        "    for i in range(len(self.x)):\n",
        "      sum=0\n",
        "      print(\"x\"+str(i+1),end=\"=\")\n",
        "      for a in range(i-self.R2,i-self.R1):\n",
        "        if(a>=0 and a<len(self.x)):\n",
        "          #print(\"pointa\"+str(a))\n",
        "          sum=sum+(self.c2*self.x[a])\n",
        "          print(str(self.c2)+\"x\"+str(self.x[a])+\"+\",end=\" \")\n",
        "\n",
        "      for b in range(i-self.R1,i+self.R1+1):\n",
        "\n",
        "        if(b>=0 and b<len(self.x)):\n",
        "          #print(\"pointb\"+str(b))\n",
        "          sum=sum+(self.c1*self.x[b])\n",
        "          print(str(self.c1)+\"x\"+str(self.x[b])+\"+\",end=\" \")\n",
        "\n",
        "      for c in range(i+self.R1+1,i+self.R2+1):\n",
        "        if(c>=0 and c<len(self.x)):\n",
        "          #print(\"pointc\"+str(c))\n",
        "          sum=sum+(self.c2*self.x[c])\n",
        "          print(str(self.c2)+\"x\"+str(self.x[c])+\"+\",end=\" \")\n",
        "\n",
        "      print(\"= \"+str(sum))\n",
        "      s[i]=self.threshold(sum)\n",
        "    self.x=s\n",
        "    print(self.x)\n",
        "\n",
        "\n",
        "  def threshold (self,x):\n",
        "    if(x<0):\n",
        "      return 0\n",
        "    elif(0<=x and x<=2):\n",
        "      return x\n",
        "    elif(x>2):\n",
        "      return 2"
      ],
      "execution_count": 44,
      "outputs": []
    },
    {
      "cell_type": "code",
      "metadata": {
        "id": "bnD1lfFbPBqI"
      },
      "source": [
        "x=[0.0,0.3,0.7,1.0,0.7,0.3,0.0]\n",
        "R1=1\n",
        "R2=2\n",
        "c1=0.8\n",
        "c2=-0.4\n",
        "tmax=2\n",
        "M1=MexicanNet(x,tmax,R1,R2,c1,c2)"
      ],
      "execution_count": 47,
      "outputs": []
    },
    {
      "cell_type": "code",
      "metadata": {
        "id": "Ic0KJRJXPY1Z",
        "outputId": "bf5fdd34-b36c-46ad-ae19-37c14d9bbfe7",
        "colab": {
          "base_uri": "https://localhost:8080/",
          "height": 324
        }
      },
      "source": [
        "M1.epoch()"
      ],
      "execution_count": 48,
      "outputs": [
        {
          "output_type": "stream",
          "text": [
            "For t=1\n",
            "x1=0.8x0.0+ 0.8x0.3+ -0.4x0.7+ = -0.03999999999999998\n",
            "x2=0.8x0.0+ 0.8x0.3+ 0.8x0.7+ -0.4x1.0+ = 0.3999999999999999\n",
            "x3=-0.4x0.0+ 0.8x0.3+ 0.8x0.7+ 0.8x1.0+ -0.4x0.7+ = 1.32\n",
            "x4=-0.4x0.3+ 0.8x0.7+ 0.8x1.0+ 0.8x0.7+ -0.4x0.3+ = 1.6799999999999997\n",
            "x5=-0.4x0.7+ 0.8x1.0+ 0.8x0.7+ 0.8x0.3+ -0.4x0.0+ = 1.32\n",
            "x6=-0.4x1.0+ 0.8x0.7+ 0.8x0.3+ 0.8x0.0+ = 0.3999999999999999\n",
            "x7=-0.4x0.7+ 0.8x0.3+ 0.8x0.0+ = -0.03999999999999998\n",
            "[0, 0.3999999999999999, 1.32, 1.6799999999999997, 1.32, 0.3999999999999999, 0]\n",
            "For t=2\n",
            "x1=0.8x0+ 0.8x0.3999999999999999+ -0.4x1.32+ = -0.20800000000000007\n",
            "x2=0.8x0+ 0.8x0.3999999999999999+ 0.8x1.32+ -0.4x1.6799999999999997+ = 0.704\n",
            "x3=-0.4x0+ 0.8x0.3999999999999999+ 0.8x1.32+ 0.8x1.6799999999999997+ -0.4x1.32+ = 2.1919999999999997\n",
            "x4=-0.4x0.3999999999999999+ 0.8x1.32+ 0.8x1.6799999999999997+ 0.8x1.32+ -0.4x0.3999999999999999+ = 3.136\n",
            "x5=-0.4x1.32+ 0.8x1.6799999999999997+ 0.8x1.32+ 0.8x0.3999999999999999+ -0.4x0+ = 2.1919999999999997\n",
            "x6=-0.4x1.6799999999999997+ 0.8x1.32+ 0.8x0.3999999999999999+ 0.8x0+ = 0.7040000000000001\n",
            "x7=-0.4x1.32+ 0.8x0.3999999999999999+ 0.8x0+ = -0.20800000000000007\n",
            "[0, 0.704, 2, 2, 2, 0.7040000000000001, 0]\n"
          ],
          "name": "stdout"
        }
      ]
    },
    {
      "cell_type": "code",
      "metadata": {
        "id": "80nubL-9PaPV"
      },
      "source": [
        "x=[0.1,0.2,0.5,0.7,0.2,0.1]\n",
        "R1=3\n",
        "R2=4\n",
        "c1=0.7\n",
        "c2=-0.2\n",
        "tmax=3\n",
        "M2=MexicanNet(x,tmax,R1,R2,c1,c2)"
      ],
      "execution_count": 49,
      "outputs": []
    },
    {
      "cell_type": "code",
      "metadata": {
        "id": "sqjUxijDT_1C",
        "outputId": "1365b450-529d-4414-8951-4cc51acd25ba",
        "colab": {
          "base_uri": "https://localhost:8080/",
          "height": 426
        }
      },
      "source": [
        "M2.epoch()"
      ],
      "execution_count": 50,
      "outputs": [
        {
          "output_type": "stream",
          "text": [
            "For t=1\n",
            "x1=0.7x0.1+ 0.7x0.2+ 0.7x0.5+ 0.7x0.7+ -0.2x0.2+ = 1.0099999999999998\n",
            "x2=0.7x0.1+ 0.7x0.2+ 0.7x0.5+ 0.7x0.7+ 0.7x0.2+ -0.2x0.1+ = 1.1699999999999997\n",
            "x3=0.7x0.1+ 0.7x0.2+ 0.7x0.5+ 0.7x0.7+ 0.7x0.2+ 0.7x0.1+ = 1.2599999999999998\n",
            "x4=0.7x0.1+ 0.7x0.2+ 0.7x0.5+ 0.7x0.7+ 0.7x0.2+ 0.7x0.1+ = 1.2599999999999998\n",
            "x5=-0.2x0.1+ 0.7x0.2+ 0.7x0.5+ 0.7x0.7+ 0.7x0.2+ 0.7x0.1+ = 1.17\n",
            "x6=-0.2x0.2+ 0.7x0.5+ 0.7x0.7+ 0.7x0.2+ 0.7x0.1+ = 1.0099999999999998\n",
            "[1.0099999999999998, 1.1699999999999997, 1.2599999999999998, 1.2599999999999998, 1.17, 1.0099999999999998]\n",
            "For t=2\n",
            "x1=0.7x1.0099999999999998+ 0.7x1.1699999999999997+ 0.7x1.2599999999999998+ 0.7x1.2599999999999998+ -0.2x1.17+ = 3.055999999999999\n",
            "x2=0.7x1.0099999999999998+ 0.7x1.1699999999999997+ 0.7x1.2599999999999998+ 0.7x1.2599999999999998+ 0.7x1.17+ -0.2x1.0099999999999998+ = 3.906999999999999\n",
            "x3=0.7x1.0099999999999998+ 0.7x1.1699999999999997+ 0.7x1.2599999999999998+ 0.7x1.2599999999999998+ 0.7x1.17+ 0.7x1.0099999999999998+ = 4.815999999999999\n",
            "x4=0.7x1.0099999999999998+ 0.7x1.1699999999999997+ 0.7x1.2599999999999998+ 0.7x1.2599999999999998+ 0.7x1.17+ 0.7x1.0099999999999998+ = 4.815999999999999\n",
            "x5=-0.2x1.0099999999999998+ 0.7x1.1699999999999997+ 0.7x1.2599999999999998+ 0.7x1.2599999999999998+ 0.7x1.17+ 0.7x1.0099999999999998+ = 3.906999999999999\n",
            "x6=-0.2x1.1699999999999997+ 0.7x1.2599999999999998+ 0.7x1.2599999999999998+ 0.7x1.17+ 0.7x1.0099999999999998+ = 3.055999999999999\n",
            "[2, 2, 2, 2, 2, 2]\n",
            "For t=3\n",
            "x1=0.7x2+ 0.7x2+ 0.7x2+ 0.7x2+ -0.2x2+ = 5.199999999999999\n",
            "x2=0.7x2+ 0.7x2+ 0.7x2+ 0.7x2+ 0.7x2+ -0.2x2+ = 6.6\n",
            "x3=0.7x2+ 0.7x2+ 0.7x2+ 0.7x2+ 0.7x2+ 0.7x2+ = 8.4\n",
            "x4=0.7x2+ 0.7x2+ 0.7x2+ 0.7x2+ 0.7x2+ 0.7x2+ = 8.4\n",
            "x5=-0.2x2+ 0.7x2+ 0.7x2+ 0.7x2+ 0.7x2+ 0.7x2+ = 6.6\n",
            "x6=-0.2x2+ 0.7x2+ 0.7x2+ 0.7x2+ 0.7x2+ = 5.199999999999999\n",
            "[2, 2, 2, 2, 2, 2]\n"
          ],
          "name": "stdout"
        }
      ]
    },
    {
      "cell_type": "code",
      "metadata": {
        "id": "jG6tc5FmUSVK"
      },
      "source": [
        ""
      ],
      "execution_count": null,
      "outputs": []
    }
  ]
}