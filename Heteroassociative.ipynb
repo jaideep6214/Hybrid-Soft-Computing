{
  "nbformat": 4,
  "nbformat_minor": 0,
  "metadata": {
    "colab": {
      "name": "Heteroassociative.ipynb",
      "provenance": [],
      "authorship_tag": "ABX9TyPfGSdscg6o+qZ58fdSlP0G",
      "include_colab_link": true
    },
    "kernelspec": {
      "name": "python3",
      "display_name": "Python 3"
    }
  },
  "cells": [
    {
      "cell_type": "markdown",
      "metadata": {
        "id": "view-in-github",
        "colab_type": "text"
      },
      "source": [
        "<a href=\"https://colab.research.google.com/github/jaideep6214/Hybrid-Soft-Computing/blob/main/Heteroassociative.ipynb\" target=\"_parent\"><img src=\"https://colab.research.google.com/assets/colab-badge.svg\" alt=\"Open In Colab\"/></a>"
      ]
    },
    {
      "cell_type": "code",
      "metadata": {
        "id": "tMFq6TGTB98U"
      },
      "source": [
        "import numpy as np"
      ],
      "execution_count": 2,
      "outputs": []
    },
    {
      "cell_type": "code",
      "metadata": {
        "id": "Zc21ynam-zIx"
      },
      "source": [
        "class Heteroassociative():\n",
        "  def __init__(self, s, t):\n",
        "    self.s=np.array(s)\n",
        "    self.t=np.array(t)\n",
        "  def weight_matrix(self):\n",
        "    self.w=np.dot(self.s.T,self.t)\n",
        "  def test(self,x):\n",
        "    x=np.array(x)\n",
        "    self.weight_matrix()\n",
        "    y=list(np.dot(x,self.w))\n",
        "    for i in range(len(y)):\n",
        "      y[i]=self.threshold(y[i])\n",
        "    print(y)\n",
        "  def threshold(self, yin):\n",
        "    if(yin>0):\n",
        "      return 1\n",
        "    elif(yin==0):\n",
        "      return 0\n",
        "    else:\n",
        "      return -1\n",
        "\n"
      ],
      "execution_count": 29,
      "outputs": []
    },
    {
      "cell_type": "code",
      "metadata": {
        "id": "QklxF65XBZfC"
      },
      "source": [
        "s=[[1,-1,-1,-1],[1,1,-1,-1],[-1,-1,-1,1],[-1,-1,-1,1]]\n",
        "t=[[1,-1],[1,-1],[-1,1],[-1,1]]\n",
        "H1=Heteroassociative(s,t)"
      ],
      "execution_count": 30,
      "outputs": []
    },
    {
      "cell_type": "code",
      "metadata": {
        "id": "XFdXp8AlB38Y",
        "outputId": "2122ceb6-bf49-40b5-948f-bc94691830ad",
        "colab": {
          "base_uri": "https://localhost:8080/",
          "height": 34
        }
      },
      "source": [
        "H1.test([1,1,-1,-1])"
      ],
      "execution_count": 31,
      "outputs": [
        {
          "output_type": "stream",
          "text": [
            "[1, -1]\n"
          ],
          "name": "stdout"
        }
      ]
    },
    {
      "cell_type": "code",
      "metadata": {
        "id": "CIh2K30dCBK2",
        "outputId": "26ae8025-aee2-49bc-ab62-2b87075e26db",
        "colab": {
          "base_uri": "https://localhost:8080/",
          "height": 34
        }
      },
      "source": [
        "H1.test([1,-1,-1,-1])"
      ],
      "execution_count": 32,
      "outputs": [
        {
          "output_type": "stream",
          "text": [
            "[1, -1]\n"
          ],
          "name": "stdout"
        }
      ]
    },
    {
      "cell_type": "code",
      "metadata": {
        "id": "nYF208AICwAu",
        "outputId": "40e3f4fa-09cd-4ba4-c732-70e979cd1f0f",
        "colab": {
          "base_uri": "https://localhost:8080/",
          "height": 34
        }
      },
      "source": [
        "H1.test([-1,-1,1,1])"
      ],
      "execution_count": 33,
      "outputs": [
        {
          "output_type": "stream",
          "text": [
            "[-1, 1]\n"
          ],
          "name": "stdout"
        }
      ]
    },
    {
      "cell_type": "code",
      "metadata": {
        "id": "DwwUSzNZCzgA",
        "outputId": "da42d693-57e5-44a5-db84-166f7fe445b1",
        "colab": {
          "base_uri": "https://localhost:8080/",
          "height": 34
        }
      },
      "source": [
        "H1.test([-1,-1,-1,1])"
      ],
      "execution_count": 34,
      "outputs": [
        {
          "output_type": "stream",
          "text": [
            "[-1, 1]\n"
          ],
          "name": "stdout"
        }
      ]
    },
    {
      "cell_type": "markdown",
      "metadata": {
        "id": "I0ryNLJBEHS0"
      },
      "source": [
        "## **1 Missing bit**"
      ]
    },
    {
      "cell_type": "code",
      "metadata": {
        "id": "iWgzte0KEDlx",
        "outputId": "76ea0fac-2cb6-4a62-b2c5-1045aa9fee57",
        "colab": {
          "base_uri": "https://localhost:8080/",
          "height": 34
        }
      },
      "source": [
        "H1.test([1,1,-1,0])"
      ],
      "execution_count": 35,
      "outputs": [
        {
          "output_type": "stream",
          "text": [
            "[1, -1]\n"
          ],
          "name": "stdout"
        }
      ]
    },
    {
      "cell_type": "markdown",
      "metadata": {
        "id": "46leO82fEqtT"
      },
      "source": [
        "## **2 Missing bit**"
      ]
    },
    {
      "cell_type": "code",
      "metadata": {
        "id": "L4c_s_UiEmuf",
        "outputId": "6a0d5c6d-db31-428a-9a90-e36ac46a37b5",
        "colab": {
          "base_uri": "https://localhost:8080/",
          "height": 34
        }
      },
      "source": [
        "H1.test([0,1,-1,0])"
      ],
      "execution_count": 38,
      "outputs": [
        {
          "output_type": "stream",
          "text": [
            "[1, -1]\n"
          ],
          "name": "stdout"
        }
      ]
    },
    {
      "cell_type": "code",
      "metadata": {
        "id": "2v2ZGxJvEui-"
      },
      "source": [
        ""
      ],
      "execution_count": null,
      "outputs": []
    }
  ]
}