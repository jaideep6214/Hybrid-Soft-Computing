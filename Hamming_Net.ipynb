{
  "nbformat": 4,
  "nbformat_minor": 0,
  "metadata": {
    "colab": {
      "name": "Hamming Net.ipynb",
      "provenance": [],
      "authorship_tag": "ABX9TyOEM+6qYJu5UYT1YM/d8rd7",
      "include_colab_link": true
    },
    "kernelspec": {
      "name": "python3",
      "display_name": "Python 3"
    }
  },
  "cells": [
    {
      "cell_type": "markdown",
      "metadata": {
        "id": "view-in-github",
        "colab_type": "text"
      },
      "source": [
        "<a href=\"https://colab.research.google.com/github/jaideep6214/Hybrid-Soft-Computing/blob/main/Hamming_Net.ipynb\" target=\"_parent\"><img src=\"https://colab.research.google.com/assets/colab-badge.svg\" alt=\"Open In Colab\"/></a>"
      ]
    },
    {
      "cell_type": "code",
      "metadata": {
        "id": "Nw27TSa9axRU"
      },
      "source": [
        "import numpy as np"
      ],
      "execution_count": 1,
      "outputs": []
    },
    {
      "cell_type": "code",
      "metadata": {
        "id": "XCjcLd-BYrOs"
      },
      "source": [
        "class HammingNet():\n",
        "\n",
        "  def __init__(self,x,e):\n",
        "    self.x=np.array(x)\n",
        "    self.e=np.array(e)\n",
        "\n",
        "  def result(self):\n",
        "    for i in range(len(self.y)):\n",
        "      y1=self.y[i][0]\n",
        "      y2=self.y[i][1]\n",
        "      if(y1>=y2):\n",
        "        print(\"The value of y1=\"+str(y1)+\" is the number of components input vector x\"+str(i+1)+\" and e1 agreed.\")\n",
        "      else:\n",
        "        print(\"The value of y2=\"+str(y2)+\" is the number of components input vector x\"+str(i+1)+\" and e2 agreed.\")\n",
        "\n",
        "  def evaluate(self):\n",
        "    self.w=self.e/len(self.e)\n",
        "    self.w=self.w.T\n",
        "    self.b=np.array([len(self.x) for i in range(len(self.e))])\n",
        "    self.b=self.b/len(self.e)\n",
        "  \n",
        "  def train(self):\n",
        "    self.evaluate()\n",
        "\n",
        "    self.y=np.dot(self.x,self.w)+self.b\n",
        "\n",
        "    self.result()\n",
        "\n",
        "\n",
        "\n"
      ],
      "execution_count": 38,
      "outputs": []
    },
    {
      "cell_type": "code",
      "metadata": {
        "id": "_Fao6HlpcUpR"
      },
      "source": [
        "e=[[1,-1,-1,-1],[-1,-1,-1,1]]\n",
        "x=[[-1,-1,1,-1],[-1,-1,1,1],[-1,-1,-1,1],[1,1,-1,-1]]\n",
        "H1=HammingNet(x,e)"
      ],
      "execution_count": 39,
      "outputs": []
    },
    {
      "cell_type": "code",
      "metadata": {
        "id": "hGADvUgLeg8X",
        "outputId": "df214c0c-c7ae-4f5e-9cec-27e5f93ad11b",
        "colab": {
          "base_uri": "https://localhost:8080/",
          "height": 85
        }
      },
      "source": [
        "H1.train()"
      ],
      "execution_count": 40,
      "outputs": [
        {
          "output_type": "stream",
          "text": [
            "The value of y1=2.0 is the number of components input vector x1 and e1 agreed.\n",
            "The value of y2=3.0 is the number of components input vector x2 and e2 agreed.\n",
            "The value of y2=4.0 is the number of components input vector x3 and e2 agreed.\n",
            "The value of y1=3.0 is the number of components input vector x4 and e1 agreed.\n"
          ],
          "name": "stdout"
        }
      ]
    },
    {
      "cell_type": "code",
      "metadata": {
        "id": "dP6uje95ejgG"
      },
      "source": [
        "e=[[-1,1,-1,1],[1,-1,-1,-1]]\n",
        "x=[[1,1,-1,-1],[-1,1,1,-1],[-1,-1,-1,1],[-1,-1,1,1]]\n",
        "H2=HammingNet(x,e)"
      ],
      "execution_count": 41,
      "outputs": []
    },
    {
      "cell_type": "code",
      "metadata": {
        "id": "_NrfFkJGfZgR",
        "outputId": "a508a152-6fb9-44de-b278-a7753bd4bba0",
        "colab": {
          "base_uri": "https://localhost:8080/",
          "height": 85
        }
      },
      "source": [
        "H2.train()"
      ],
      "execution_count": 42,
      "outputs": [
        {
          "output_type": "stream",
          "text": [
            "The value of y2=3.0 is the number of components input vector x1 and e2 agreed.\n",
            "The value of y1=2.0 is the number of components input vector x2 and e1 agreed.\n",
            "The value of y1=3.0 is the number of components input vector x3 and e1 agreed.\n",
            "The value of y1=2.0 is the number of components input vector x4 and e1 agreed.\n"
          ],
          "name": "stdout"
        }
      ]
    },
    {
      "cell_type": "code",
      "metadata": {
        "id": "AK5fuwCzfavA"
      },
      "source": [
        "e=[[-1,1,1,1],[1,-1,1,-1]]\n",
        "x=[[1,1,1,1],[1,-1,-1,-1],[-1,1,1,1],[-1,1,-1,1]]\n",
        "H3=HammingNet(x,e)"
      ],
      "execution_count": 43,
      "outputs": []
    },
    {
      "cell_type": "code",
      "metadata": {
        "id": "IZ72tXCtfwoJ",
        "outputId": "871f31c2-a9d7-4aab-bc02-e5ae2c85aa9c",
        "colab": {
          "base_uri": "https://localhost:8080/",
          "height": 85
        }
      },
      "source": [
        "H3.train()"
      ],
      "execution_count": 44,
      "outputs": [
        {
          "output_type": "stream",
          "text": [
            "The value of y1=3.0 is the number of components input vector x1 and e1 agreed.\n",
            "The value of y2=3.0 is the number of components input vector x2 and e2 agreed.\n",
            "The value of y1=4.0 is the number of components input vector x3 and e1 agreed.\n",
            "The value of y1=3.0 is the number of components input vector x4 and e1 agreed.\n"
          ],
          "name": "stdout"
        }
      ]
    },
    {
      "cell_type": "code",
      "metadata": {
        "id": "HgbV5fMOfyA8"
      },
      "source": [
        ""
      ],
      "execution_count": null,
      "outputs": []
    }
  ]
}