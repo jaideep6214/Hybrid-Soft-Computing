{
  "nbformat": 4,
  "nbformat_minor": 0,
  "metadata": {
    "colab": {
      "name": "Maxnet.ipynb",
      "provenance": [],
      "authorship_tag": "ABX9TyOFcv5bNL0Gwy7bkqDR4/wL",
      "include_colab_link": true
    },
    "kernelspec": {
      "name": "python3",
      "display_name": "Python 3"
    }
  },
  "cells": [
    {
      "cell_type": "markdown",
      "metadata": {
        "id": "view-in-github",
        "colab_type": "text"
      },
      "source": [
        "<a href=\"https://colab.research.google.com/github/jaideep6214/Hybrid-Soft-Computing/blob/main/Maxnet.ipynb\" target=\"_parent\"><img src=\"https://colab.research.google.com/assets/colab-badge.svg\" alt=\"Open In Colab\"/></a>"
      ]
    },
    {
      "cell_type": "markdown",
      "metadata": {
        "id": "y5PtwGIIkCAd"
      },
      "source": [
        "## **Max Net**"
      ]
    },
    {
      "cell_type": "code",
      "metadata": {
        "id": "lWgfMqWqd92K"
      },
      "source": [
        "import copy \n",
        "class Maxnet():\n",
        "  def __init__(self, x , w ):\n",
        "    self.x=x\n",
        "    self.w=w\n",
        "\n",
        "  def display(self):\n",
        "    for i in range(len(self.x)):\n",
        "      print(str(self.x[i])+\"  \", end=\"\")\n",
        "    print()\n",
        "\n",
        "  def train(self):\n",
        "    epoch=0\n",
        "    while(self.check()):\n",
        "      print(\"Epoch:\"+str(epoch))\n",
        "      self.display()\n",
        "      copy_x=copy.copy(self.x)\n",
        "      for i in range(len(self.x)):\n",
        "        summation=0\n",
        "        for y in range(len(self.x)):\n",
        "          if(i!=y):\n",
        "            summation+=copy_x[y]\n",
        "        self.x[i]=self.threshold(self.x[i]-(self.w*summation))\n",
        "      epoch+=1\n",
        "    print(\"Epoch:\"+str(epoch))\n",
        "    self.display()\n",
        "    \n",
        "  def check(self):\n",
        "    flag=0\n",
        "    for i in self.x:\n",
        "      if(i!=0 and flag==1):\n",
        "        return True\n",
        "      if(i!=0 and flag==0):\n",
        "        flag=1\n",
        "    return False\n",
        "    \n",
        "\n",
        "  def threshold (self,x):\n",
        "    if(x>0):\n",
        "      return x\n",
        "    else:\n",
        "      return 0"
      ],
      "execution_count": 44,
      "outputs": []
    },
    {
      "cell_type": "code",
      "metadata": {
        "id": "ixQ-uKtPfopI"
      },
      "source": [
        "x=[0.3,0.5,0.7,0.9]\n",
        "w=0.2\n",
        "M_model=Maxnet(x,w)"
      ],
      "execution_count": 45,
      "outputs": []
    },
    {
      "cell_type": "code",
      "metadata": {
        "id": "HFlwIHgcgsiU",
        "outputId": "f7df9e48-c9ce-4f93-ea29-0875d934d72a",
        "colab": {
          "base_uri": "https://localhost:8080/",
          "height": 221
        }
      },
      "source": [
        "M_model.train()"
      ],
      "execution_count": 46,
      "outputs": [
        {
          "output_type": "stream",
          "text": [
            "Epoch:0\n",
            "0.3  0.5  0.7  0.9  \n",
            "Epoch:1\n",
            "0  0.12  0.3599999999999999  0.6  \n",
            "Epoch:2\n",
            "0  0  0.2159999999999999  0.504  \n",
            "Epoch:3\n",
            "0  0  0.11519999999999989  0.46080000000000004  \n",
            "Epoch:4\n",
            "0  0  0.023039999999999866  0.43776000000000004  \n",
            "Epoch:5\n",
            "0  0  0  0.4331520000000001  \n"
          ],
          "name": "stdout"
        }
      ]
    },
    {
      "cell_type": "code",
      "metadata": {
        "id": "YafiK5sig6Lg"
      },
      "source": [
        "x=[0.1,0.6,0.3,0.5]\n",
        "w=0.3\n",
        "M_model2=Maxnet(x,w)"
      ],
      "execution_count": 47,
      "outputs": []
    },
    {
      "cell_type": "code",
      "metadata": {
        "id": "xLjOj_oQjqYy",
        "outputId": "04883e5c-c5f3-4bea-913c-9c3528141cce",
        "colab": {
          "base_uri": "https://localhost:8080/",
          "height": 187
        }
      },
      "source": [
        "M_model2.train()"
      ],
      "execution_count": 48,
      "outputs": [
        {
          "output_type": "stream",
          "text": [
            "Epoch:0\n",
            "0.1  0.6  0.3  0.5  \n",
            "Epoch:1\n",
            "0  0.32999999999999996  0  0.2  \n",
            "Epoch:2\n",
            "0  0.26999999999999996  0  0.10100000000000002  \n",
            "Epoch:3\n",
            "0  0.23969999999999997  0  0.02000000000000003  \n",
            "Epoch:4\n",
            "0  0.23369999999999996  0  0  \n"
          ],
          "name": "stdout"
        }
      ]
    },
    {
      "cell_type": "code",
      "metadata": {
        "id": "4AtaegHIjvw-"
      },
      "source": [
        "x=[0.2,0.7,0.6,0.8]\n",
        "w=0.3\n",
        "M_model3=Maxnet(x,w)"
      ],
      "execution_count": 49,
      "outputs": []
    },
    {
      "cell_type": "code",
      "metadata": {
        "id": "FzV8Dncajvzn",
        "outputId": "d831998b-53c2-41ae-d575-9b6ed36690f8",
        "colab": {
          "base_uri": "https://localhost:8080/",
          "height": 187
        }
      },
      "source": [
        "M_model3.train()"
      ],
      "execution_count": 50,
      "outputs": [
        {
          "output_type": "stream",
          "text": [
            "Epoch:0\n",
            "0.2  0.7  0.6  0.8  \n",
            "Epoch:1\n",
            "0  0.21999999999999997  0.08999999999999997  0.3500000000000001  \n",
            "Epoch:2\n",
            "0  0.08799999999999997  0  0.2570000000000001  \n",
            "Epoch:3\n",
            "0  0.010899999999999938  0  0.23060000000000014  \n",
            "Epoch:4\n",
            "0  0  0  0.22733000000000014  \n"
          ],
          "name": "stdout"
        }
      ]
    },
    {
      "cell_type": "code",
      "metadata": {
        "id": "4cep9p8cj_Pp"
      },
      "source": [
        ""
      ],
      "execution_count": null,
      "outputs": []
    }
  ]
}