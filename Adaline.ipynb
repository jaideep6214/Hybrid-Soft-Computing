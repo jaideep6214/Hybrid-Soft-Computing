{
  "nbformat": 4,
  "nbformat_minor": 0,
  "metadata": {
    "colab": {
      "name": "Adaline.ipynb",
      "provenance": [],
      "authorship_tag": "ABX9TyMaOit/Y5KdlTAkgI/cIAvR",
      "include_colab_link": true
    },
    "kernelspec": {
      "name": "python3",
      "display_name": "Python 3"
    }
  },
  "cells": [
    {
      "cell_type": "markdown",
      "metadata": {
        "id": "view-in-github",
        "colab_type": "text"
      },
      "source": [
        "<a href=\"https://colab.research.google.com/github/jaideep6214/Hybrid-Soft-Computing/blob/main/Adaline.ipynb\" target=\"_parent\"><img src=\"https://colab.research.google.com/assets/colab-badge.svg\" alt=\"Open In Colab\"/></a>"
      ]
    },
    {
      "cell_type": "markdown",
      "metadata": {
        "id": "-t0I1fZ6hLOW"
      },
      "source": [
        "## **Adaline Model**"
      ]
    },
    {
      "cell_type": "code",
      "metadata": {
        "id": "FWfLf2hxY89z"
      },
      "source": [
        "class Adaline():\n",
        "  def __init__(self,x,t,w,alpha):\n",
        "    self.x=x\n",
        "    self.w=w\n",
        "    self.t=t\n",
        "    self.alpha=alpha\n",
        "\n",
        "  def epochs(self,n):\n",
        "    self.Epoch=[0 for i in range(n)]\n",
        "    for i in range(n):\n",
        "      print(\"Epoch\"+str(i+1))\n",
        "      self.Epoch[i]=self.train()\n",
        "    for i in self.Epoch:\n",
        "      print(\"{:.2f}\".format(i),end=\"  \")\n",
        "  def train(self):\n",
        "\n",
        "    print(\"x1 x2 1 t yin (t-yin) dw1 dw2 db w1 w2 b E\")\n",
        "\n",
        "    tot_Error=0\n",
        "    for i in  range(len(self.x)):\n",
        "      yin=0\n",
        "      for y in range(len(self.w)):\n",
        "        yin+=self.x[i][y]*self.w[y]\n",
        "        print(str(self.x[i][y])+\"  \", end=\"\")\n",
        "\n",
        "      print(str(self.t[i])+\"  \", end=\"\")\n",
        "      print(\"{:.2f}\".format(yin)+\"  \", end=\"\")\n",
        "\n",
        "      del_t_yin=self.t[i]-yin\n",
        "      self.yo=self.threshold(yin)\n",
        "\n",
        "      for y in range(len(self.w)):\n",
        "        dw=self.alpha*del_t_yin*self.x[i][y]\n",
        "        print(\"{:.2f}\".format(dw)+\"  \", end=\"\")\n",
        "        self.w[y]=self.w[y]+dw\n",
        "\n",
        "      for y in range(len(self.w)):\n",
        "        print(\"{:.2f}\".format(self.w[y])+\"  \", end=\"\")\n",
        "\n",
        "      print(\"{:.2f}\".format(del_t_yin**2))\n",
        "      tot_Error+=del_t_yin**2\n",
        "\n",
        "    return (tot_Error)\n",
        "      \n",
        "      \n",
        "  def test(self):\n",
        "    print(\"Weights are :\")\n",
        "    for i in self.w:\n",
        "      print(\"{:.2f}\".format(i),end=\"  \")\n",
        "    print()\n",
        "    print(\"x1 x2 1 y\")\n",
        "\n",
        "    for i in  range(len(self.x)):\n",
        "      yin=0\n",
        "      for y in range(len(self.w)):\n",
        "        yin+=self.x[i][y]*self.w[y]\n",
        "        print(str(self.x[i][y])+\"  \", end=\"\")\n",
        "      print(self.threshold(yin))\n",
        "\n",
        "  def threshold (self,yin):\n",
        "    if(yin>=0):\n",
        "      return 1\n",
        "    else:\n",
        "      return -1"
      ],
      "execution_count": 40,
      "outputs": []
    },
    {
      "cell_type": "markdown",
      "metadata": {
        "id": "tXBhYZSuhRS6"
      },
      "source": [
        "## **AND NOT Function**"
      ]
    },
    {
      "cell_type": "code",
      "metadata": {
        "id": "arVhoiWjcWWq"
      },
      "source": [
        "x=[[1,1,1],[1,-1,1],[-1,1,1],[-1,-1,1]]\n",
        "t=[-1,1,-1,-1]\n",
        "alpha=0.2\n",
        "w=[0.2 for i in range(len(x[0]))]\n",
        "Adaline_ANDNOT=Adaline(x,t,w,alpha)"
      ],
      "execution_count": 50,
      "outputs": []
    },
    {
      "cell_type": "code",
      "metadata": {
        "id": "wt9aXKFPcrYy",
        "outputId": "5ebba998-f666-4f3a-ee61-6e7128ddf3f6",
        "colab": {
          "base_uri": "https://localhost:8080/",
          "height": 648
        }
      },
      "source": [
        "Adaline_ANDNOT.epochs(6)"
      ],
      "execution_count": 51,
      "outputs": [
        {
          "output_type": "stream",
          "text": [
            "Epoch1\n",
            "x1 x2 1 t yin (t-yin) dw1 dw2 db w1 w2 b E\n",
            "1  1  1  -1  0.60  -0.32  -0.32  -0.32  -0.12  -0.12  -0.12  2.56\n",
            "1  -1  1  1  -0.12  0.22  -0.22  0.22  0.10  -0.34  0.10  1.25\n",
            "-1  1  1  -1  -0.34  0.13  -0.13  -0.13  0.24  -0.48  -0.03  0.43\n",
            "-1  -1  1  -1  0.21  0.24  0.24  -0.24  0.48  -0.23  -0.27  1.47\n",
            "Epoch2\n",
            "x1 x2 1 t yin (t-yin) dw1 dw2 db w1 w2 b E\n",
            "1  1  1  -1  -0.02  -0.20  -0.20  -0.20  0.28  -0.43  -0.46  0.95\n",
            "1  -1  1  1  0.25  0.15  -0.15  0.15  0.43  -0.58  -0.31  0.57\n",
            "-1  1  1  -1  -1.33  -0.07  0.07  0.07  0.37  -0.51  -0.25  0.11\n",
            "-1  -1  1  -1  -0.10  0.18  0.18  -0.18  0.55  -0.33  -0.43  0.80\n",
            "Epoch3\n",
            "x1 x2 1 t yin (t-yin) dw1 dw2 db w1 w2 b E\n",
            "1  1  1  -1  -0.21  -0.16  -0.16  -0.16  0.39  -0.49  -0.59  0.62\n",
            "1  -1  1  1  0.30  0.14  -0.14  0.14  0.53  -0.63  -0.44  0.49\n",
            "-1  1  1  -1  -1.61  -0.12  0.12  0.12  0.41  -0.51  -0.32  0.37\n",
            "-1  -1  1  -1  -0.22  0.16  0.16  -0.16  0.57  -0.35  -0.48  0.60\n",
            "Epoch4\n",
            "x1 x2 1 t yin (t-yin) dw1 dw2 db w1 w2 b E\n",
            "1  1  1  -1  -0.27  -0.15  -0.15  -0.15  0.42  -0.50  -0.62  0.54\n",
            "1  -1  1  1  0.30  0.14  -0.14  0.14  0.56  -0.64  -0.48  0.50\n",
            "-1  1  1  -1  -1.69  -0.14  0.14  0.14  0.42  -0.50  -0.35  0.47\n",
            "-1  -1  1  -1  -0.26  0.15  0.15  -0.15  0.57  -0.36  -0.49  0.54\n",
            "Epoch5\n",
            "x1 x2 1 t yin (t-yin) dw1 dw2 db w1 w2 b E\n",
            "1  1  1  -1  -0.28  -0.14  -0.14  -0.14  0.43  -0.50  -0.64  0.52\n",
            "1  -1  1  1  0.29  0.14  -0.14  0.14  0.57  -0.64  -0.50  0.50\n",
            "-1  1  1  -1  -1.71  -0.14  0.14  0.14  0.43  -0.50  -0.35  0.50\n",
            "-1  -1  1  -1  -0.28  0.14  0.14  -0.14  0.57  -0.36  -0.50  0.52\n",
            "Epoch6\n",
            "x1 x2 1 t yin (t-yin) dw1 dw2 db w1 w2 b E\n",
            "1  1  1  -1  -0.29  -0.14  -0.14  -0.14  0.43  -0.50  -0.64  0.51\n",
            "1  -1  1  1  0.29  0.14  -0.14  0.14  0.57  -0.64  -0.50  0.51\n",
            "-1  1  1  -1  -1.71  -0.14  0.14  0.14  0.43  -0.50  -0.36  0.51\n",
            "-1  -1  1  -1  -0.28  0.14  0.14  -0.14  0.57  -0.36  -0.50  0.51\n",
            "5.72  2.43  2.09  2.04  2.04  2.04  "
          ],
          "name": "stdout"
        }
      ]
    },
    {
      "cell_type": "code",
      "metadata": {
        "id": "kRoBDY2qcr5y",
        "outputId": "78e3ca37-0443-4b1d-8389-fcb6dfa65fc3",
        "colab": {
          "base_uri": "https://localhost:8080/",
          "height": 136
        }
      },
      "source": [
        "Adaline_ANDNOT.test()"
      ],
      "execution_count": 52,
      "outputs": [
        {
          "output_type": "stream",
          "text": [
            "Weights are :\n",
            "0.57  -0.36  -0.50  \n",
            "x1 x2 1 y\n",
            "1  1  1  -1\n",
            "1  -1  1  1\n",
            "-1  1  1  -1\n",
            "-1  -1  1  -1\n"
          ],
          "name": "stdout"
        }
      ]
    },
    {
      "cell_type": "markdown",
      "metadata": {
        "id": "slllQ34LiLU9"
      },
      "source": [
        "## **OR Function**"
      ]
    },
    {
      "cell_type": "code",
      "metadata": {
        "id": "oWc0mGe4hBCy"
      },
      "source": [
        "x=[[1,1,1],[1,-1,1],[-1,1,1],[-1,-1,1]]\n",
        "t=[1,1,1,-1]\n",
        "alpha=0.1\n",
        "w=[0.1 for i in range(len(x[0]))]\n",
        "Adaline_OR=Adaline(x,t,w,alpha)"
      ],
      "execution_count": 53,
      "outputs": []
    },
    {
      "cell_type": "code",
      "metadata": {
        "id": "owNI_VAZhaHT",
        "outputId": "c607a5d0-b877-427c-82f7-a518d3917669",
        "colab": {
          "base_uri": "https://localhost:8080/",
          "height": 546
        }
      },
      "source": [
        "Adaline_OR.epochs(5)"
      ],
      "execution_count": 54,
      "outputs": [
        {
          "output_type": "stream",
          "text": [
            "Epoch1\n",
            "x1 x2 1 t yin (t-yin) dw1 dw2 db w1 w2 b E\n",
            "1  1  1  1  0.30  0.07  0.07  0.07  0.17  0.17  0.17  0.49\n",
            "1  -1  1  1  0.17  0.08  -0.08  0.08  0.25  0.09  0.25  0.69\n",
            "-1  1  1  1  0.09  -0.09  0.09  0.09  0.16  0.18  0.34  0.83\n",
            "-1  -1  1  -1  0.00  0.10  0.10  -0.10  0.26  0.28  0.24  1.01\n",
            "Epoch2\n",
            "x1 x2 1 t yin (t-yin) dw1 dw2 db w1 w2 b E\n",
            "1  1  1  1  0.78  0.02  0.02  0.02  0.28  0.30  0.27  0.05\n",
            "1  -1  1  1  0.25  0.08  -0.08  0.08  0.36  0.23  0.34  0.56\n",
            "-1  1  1  1  0.21  -0.08  0.08  0.08  0.28  0.30  0.42  0.63\n",
            "-1  -1  1  -1  -0.16  0.08  0.08  -0.08  0.36  0.39  0.34  0.70\n",
            "Epoch3\n",
            "x1 x2 1 t yin (t-yin) dw1 dw2 db w1 w2 b E\n",
            "1  1  1  1  1.09  -0.01  -0.01  -0.01  0.35  0.38  0.33  0.01\n",
            "1  -1  1  1  0.30  0.07  -0.07  0.07  0.42  0.31  0.40  0.49\n",
            "-1  1  1  1  0.28  -0.07  0.07  0.07  0.35  0.38  0.47  0.51\n",
            "-1  -1  1  -1  -0.26  0.07  0.07  -0.07  0.43  0.45  0.40  0.54\n",
            "Epoch4\n",
            "x1 x2 1 t yin (t-yin) dw1 dw2 db w1 w2 b E\n",
            "1  1  1  1  1.28  -0.03  -0.03  -0.03  0.40  0.43  0.37  0.08\n",
            "1  -1  1  1  0.34  0.07  -0.07  0.07  0.46  0.36  0.43  0.44\n",
            "-1  1  1  1  0.33  -0.07  0.07  0.07  0.40  0.43  0.50  0.45\n",
            "-1  -1  1  -1  -0.32  0.07  0.07  -0.07  0.46  0.50  0.43  0.46\n",
            "Epoch5\n",
            "x1 x2 1 t yin (t-yin) dw1 dw2 db w1 w2 b E\n",
            "1  1  1  1  1.39  -0.04  -0.04  -0.04  0.43  0.46  0.39  0.16\n",
            "1  -1  1  1  0.36  0.06  -0.06  0.06  0.49  0.39  0.46  0.41\n",
            "-1  1  1  1  0.36  -0.06  0.06  0.06  0.43  0.46  0.52  0.41\n",
            "-1  -1  1  -1  -0.36  0.06  0.06  -0.06  0.49  0.52  0.46  0.41\n",
            "3.02  1.94  1.55  1.42  1.38  "
          ],
          "name": "stdout"
        }
      ]
    },
    {
      "cell_type": "code",
      "metadata": {
        "id": "p3JqqNHZhb0D",
        "outputId": "009a68e8-9233-45dd-c3f1-02f23b5cd651",
        "colab": {
          "base_uri": "https://localhost:8080/",
          "height": 136
        }
      },
      "source": [
        "Adaline_OR.test()"
      ],
      "execution_count": 55,
      "outputs": [
        {
          "output_type": "stream",
          "text": [
            "Weights are :\n",
            "0.49  0.52  0.46  \n",
            "x1 x2 1 y\n",
            "1  1  1  1\n",
            "1  -1  1  1\n",
            "-1  1  1  1\n",
            "-1  -1  1  -1\n"
          ],
          "name": "stdout"
        }
      ]
    },
    {
      "cell_type": "markdown",
      "metadata": {
        "id": "jVhilhqdiQUp"
      },
      "source": [
        "## **AND Function**"
      ]
    },
    {
      "cell_type": "code",
      "metadata": {
        "id": "8Z0CY2pxiEWS"
      },
      "source": [
        "x=[[1,1,1],[1,-1,1],[-1,1,1],[-1,-1,1]]\n",
        "t=[1,-1,-1,-1]\n",
        "alpha=0.3\n",
        "w=[0.3 for i in range(len(x[0]))]\n",
        "Adaline_AND=Adaline(x,t,w,alpha)"
      ],
      "execution_count": 56,
      "outputs": []
    },
    {
      "cell_type": "code",
      "metadata": {
        "id": "MuQjl3-7iUSj",
        "outputId": "4553c558-24d3-498e-a124-cb0e91033718",
        "colab": {
          "base_uri": "https://localhost:8080/",
          "height": 546
        }
      },
      "source": [
        "Adaline_AND.epochs(5)"
      ],
      "execution_count": 58,
      "outputs": [
        {
          "output_type": "stream",
          "text": [
            "Epoch1\n",
            "x1 x2 1 t yin (t-yin) dw1 dw2 db w1 w2 b E\n",
            "1  1  1  1  0.90  0.03  0.03  0.03  0.33  0.33  0.33  0.01\n",
            "1  -1  1  -1  0.33  -0.40  0.40  -0.40  -0.07  0.73  -0.07  1.77\n",
            "-1  1  1  -1  0.73  0.52  -0.52  -0.52  0.45  0.21  -0.59  2.99\n",
            "-1  -1  1  -1  -1.25  -0.07  -0.07  0.07  0.38  0.14  -0.51  0.06\n",
            "Epoch2\n",
            "x1 x2 1 t yin (t-yin) dw1 dw2 db w1 w2 b E\n",
            "1  1  1  1  -0.00  0.30  0.30  0.30  0.68  0.44  -0.21  1.00\n",
            "1  -1  1  -1  0.03  -0.31  0.31  -0.31  0.37  0.74  -0.52  1.05\n",
            "-1  1  1  -1  -0.14  0.26  -0.26  -0.26  0.62  0.49  -0.78  0.73\n",
            "-1  -1  1  -1  -1.89  -0.27  -0.27  0.27  0.36  0.22  -0.51  0.79\n",
            "Epoch3\n",
            "x1 x2 1 t yin (t-yin) dw1 dw2 db w1 w2 b E\n",
            "1  1  1  1  0.07  0.28  0.28  0.28  0.64  0.50  -0.23  0.87\n",
            "1  -1  1  -1  -0.09  -0.27  0.27  -0.27  0.37  0.77  -0.50  0.82\n",
            "-1  1  1  -1  -0.10  0.27  -0.27  -0.27  0.64  0.50  -0.77  0.82\n",
            "-1  -1  1  -1  -1.91  -0.27  -0.27  0.27  0.36  0.23  -0.50  0.83\n",
            "Epoch4\n",
            "x1 x2 1 t yin (t-yin) dw1 dw2 db w1 w2 b E\n",
            "1  1  1  1  0.09  0.27  0.27  0.27  0.64  0.50  -0.23  0.83\n",
            "1  -1  1  -1  -0.09  -0.27  0.27  -0.27  0.36  0.77  -0.50  0.82\n",
            "-1  1  1  -1  -0.09  0.27  -0.27  -0.27  0.64  0.50  -0.77  0.83\n",
            "-1  -1  1  -1  -1.91  -0.27  -0.27  0.27  0.36  0.23  -0.50  0.83\n",
            "Epoch5\n",
            "x1 x2 1 t yin (t-yin) dw1 dw2 db w1 w2 b E\n",
            "1  1  1  1  0.09  0.27  0.27  0.27  0.64  0.50  -0.23  0.83\n",
            "1  -1  1  -1  -0.09  -0.27  0.27  -0.27  0.36  0.77  -0.50  0.83\n",
            "-1  1  1  -1  -0.09  0.27  -0.27  -0.27  0.64  0.50  -0.77  0.83\n",
            "-1  -1  1  -1  -1.91  -0.27  -0.27  0.27  0.36  0.23  -0.50  0.83\n",
            "4.83  3.58  3.34  3.31  3.31  "
          ],
          "name": "stdout"
        }
      ]
    },
    {
      "cell_type": "code",
      "metadata": {
        "id": "zc1v3zaYiUXn",
        "outputId": "993184b7-261e-4d70-ced0-7b8d21773e24",
        "colab": {
          "base_uri": "https://localhost:8080/",
          "height": 136
        }
      },
      "source": [
        "Adaline_AND.test()"
      ],
      "execution_count": 59,
      "outputs": [
        {
          "output_type": "stream",
          "text": [
            "Weights are :\n",
            "0.36  0.23  -0.50  \n",
            "x1 x2 1 y\n",
            "1  1  1  1\n",
            "1  -1  1  -1\n",
            "-1  1  1  -1\n",
            "-1  -1  1  -1\n"
          ],
          "name": "stdout"
        }
      ]
    },
    {
      "cell_type": "code",
      "metadata": {
        "id": "4DanKVexiezQ"
      },
      "source": [
        ""
      ],
      "execution_count": 57,
      "outputs": []
    }
  ]
}