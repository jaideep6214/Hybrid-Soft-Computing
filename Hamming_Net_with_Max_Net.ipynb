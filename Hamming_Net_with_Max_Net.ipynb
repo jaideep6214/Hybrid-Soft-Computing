{
  "nbformat": 4,
  "nbformat_minor": 0,
  "metadata": {
    "colab": {
      "name": "Hamming Net.ipynb",
      "provenance": [],
      "authorship_tag": "ABX9TyOnLIxM5GqnFSxgBGrukYbU",
      "include_colab_link": true
    },
    "kernelspec": {
      "name": "python3",
      "display_name": "Python 3"
    }
  },
  "cells": [
    {
      "cell_type": "markdown",
      "metadata": {
        "id": "view-in-github",
        "colab_type": "text"
      },
      "source": [
        "<a href=\"https://colab.research.google.com/github/jaideep6214/Hybrid-Soft-Computing/blob/main/Hamming_Net_with_Max_Net.ipynb\" target=\"_parent\"><img src=\"https://colab.research.google.com/assets/colab-badge.svg\" alt=\"Open In Colab\"/></a>"
      ]
    },
    {
      "cell_type": "code",
      "metadata": {
        "id": "Nw27TSa9axRU"
      },
      "source": [
        "import numpy as np\n",
        "import random"
      ],
      "execution_count": null,
      "outputs": []
    },
    {
      "cell_type": "code",
      "metadata": {
        "id": "J1s6KQftbcuz"
      },
      "source": [
        "import copy \n",
        "class Maxnet():\n",
        "  def __init__(self, x , w ):\n",
        "    self.x=x\n",
        "    self.w=w\n",
        "\n",
        "  def display(self):\n",
        "    for i in range(len(self.x)):\n",
        "      print(str(self.x[i])+\"  \", end=\"\")\n",
        "    print()\n",
        "\n",
        "  def train(self):\n",
        "    epoch=0\n",
        "    while(self.check()):\n",
        "      print(\"Epoch:\"+str(epoch))\n",
        "      self.display()\n",
        "      copy_x=copy.copy(self.x)\n",
        "      for i in range(len(self.x)):\n",
        "        summation=0\n",
        "        for y in range(len(self.x)):\n",
        "          if(i!=y):\n",
        "            summation+=copy_x[y]\n",
        "        self.x[i]=self.threshold(self.x[i]-(self.w*summation))\n",
        "      epoch+=1\n",
        "    print(\"Epoch:\"+str(epoch))\n",
        "    self.display()\n",
        "    for i in range(len(self.x)):\n",
        "      if(self.x[i]!=0):\n",
        "        print(\"y\"+str(i+1)+\" node is activated input vector.\")\n",
        "\n",
        "    \n",
        "  def check(self):\n",
        "    flag=0\n",
        "    for i in self.x:\n",
        "      if(i!=0 and flag==1):\n",
        "        return True\n",
        "      if(i!=0 and flag==0):\n",
        "        flag=1\n",
        "    return False\n",
        "    \n",
        "\n",
        "  def threshold (self,x):\n",
        "    if(x>0):\n",
        "      return x\n",
        "    else:\n",
        "      return 0"
      ],
      "execution_count": null,
      "outputs": []
    },
    {
      "cell_type": "code",
      "metadata": {
        "id": "XCjcLd-BYrOs"
      },
      "source": [
        "class HammingNet():\n",
        "\n",
        "  def __init__(self,x,e):\n",
        "    self.x=np.array(x)\n",
        "    self.e=np.array(e)\n",
        "\n",
        "  def result(self):\n",
        "    print(self.y)\n",
        "    # for i in range(len(self.y)):\n",
        "      # y1=self.y[i][0]\n",
        "      # y2=self.y[i][1]\n",
        "      # if(y1>=y2):\n",
        "      #   print(\"The value of y1=\"+str(y1)+\" is the number of components input vector x\"+str(i+1)+\" and e1 agreed.\")\n",
        "      # else:\n",
        "      #   print(\"The value of y2=\"+str(y2)+\" is the number of components input vector x\"+str(i+1)+\" and e2 agreed.\")\n",
        "\n",
        "  def evaluate(self):\n",
        "    self.w=self.e/len(self.e)\n",
        "    self.w=self.w.T\n",
        "    self.b=np.array([len(self.x) for i in range(len(self.e))])\n",
        "    self.b=self.b/len(self.e)\n",
        "  \n",
        "  def train(self):\n",
        "    self.evaluate()\n",
        "\n",
        "    self.y=np.dot(self.x,self.w)+self.b\n",
        "\n",
        "    self.result()\n",
        "\n",
        "\n",
        "\n"
      ],
      "execution_count": null,
      "outputs": []
    },
    {
      "cell_type": "code",
      "metadata": {
        "id": "_Fao6HlpcUpR"
      },
      "source": [
        "e=[[1,-1,-1,-1],[-1,-1,-1,1]]\n",
        "x=[[-1,-1,1,-1],[-1,-1,1,1],[-1,-1,-1,1],[1,1,-1,-1]]\n",
        "H1=HammingNet(x,e)"
      ],
      "execution_count": null,
      "outputs": []
    },
    {
      "cell_type": "code",
      "metadata": {
        "id": "_ZA-ZWsFdM0B",
        "outputId": "61e92bc2-4ee4-49f7-cfc1-0da2e2595b28",
        "colab": {
          "base_uri": "https://localhost:8080/",
          "height": 85
        }
      },
      "source": [
        "H1.train()"
      ],
      "execution_count": null,
      "outputs": [
        {
          "output_type": "stream",
          "text": [
            "[[2. 2.]\n",
            " [1. 3.]\n",
            " [2. 4.]\n",
            " [3. 1.]]\n"
          ],
          "name": "stdout"
        }
      ]
    },
    {
      "cell_type": "code",
      "metadata": {
        "id": "KNsjPM1Wbj-2"
      },
      "source": [
        "w=random.uniform(0,1/len(H1.y[1]))\n",
        "M_model=Maxnet(H1.y[1],w)"
      ],
      "execution_count": null,
      "outputs": []
    },
    {
      "cell_type": "code",
      "metadata": {
        "id": "7BCZdACNdTRe",
        "outputId": "2b6211d2-be0c-40d9-950f-7232f4669d1b",
        "colab": {
          "base_uri": "https://localhost:8080/",
          "height": 102
        }
      },
      "source": [
        "M_model.train()"
      ],
      "execution_count": null,
      "outputs": [
        {
          "output_type": "stream",
          "text": [
            "Epoch:0\n",
            "1.0  3.0  \n",
            "Epoch:1\n",
            "0.0  2.6311675510717034  \n",
            "y2 node is activated input vector.\n"
          ],
          "name": "stdout"
        }
      ]
    },
    {
      "cell_type": "code",
      "metadata": {
        "id": "hGADvUgLeg8X",
        "outputId": "c33ffdba-4013-4934-fa90-34a2836cd5cd",
        "colab": {
          "base_uri": "https://localhost:8080/",
          "height": 85
        }
      },
      "source": [
        "H1.train()"
      ],
      "execution_count": null,
      "outputs": [
        {
          "output_type": "stream",
          "text": [
            "[[2. 2.]\n",
            " [1. 3.]\n",
            " [2. 4.]\n",
            " [3. 1.]]\n"
          ],
          "name": "stdout"
        }
      ]
    },
    {
      "cell_type": "code",
      "metadata": {
        "id": "dP6uje95ejgG"
      },
      "source": [
        "e=[[-1,1,-1,1],[1,-1,-1,-1]]\n",
        "x=[[1,1,-1,-1],[-1,1,1,-1],[-1,-1,-1,1],[-1,-1,1,1]]\n",
        "H2=HammingNet(x,e)"
      ],
      "execution_count": null,
      "outputs": []
    },
    {
      "cell_type": "code",
      "metadata": {
        "id": "_NrfFkJGfZgR",
        "outputId": "a508a152-6fb9-44de-b278-a7753bd4bba0",
        "colab": {
          "base_uri": "https://localhost:8080/",
          "height": 85
        }
      },
      "source": [
        "H2.train()"
      ],
      "execution_count": null,
      "outputs": [
        {
          "output_type": "stream",
          "text": [
            "The value of y2=3.0 is the number of components input vector x1 and e2 agreed.\n",
            "The value of y1=2.0 is the number of components input vector x2 and e1 agreed.\n",
            "The value of y1=3.0 is the number of components input vector x3 and e1 agreed.\n",
            "The value of y1=2.0 is the number of components input vector x4 and e1 agreed.\n"
          ],
          "name": "stdout"
        }
      ]
    },
    {
      "cell_type": "code",
      "metadata": {
        "id": "AK5fuwCzfavA"
      },
      "source": [
        "e=[[-1,1,1,1],[1,-1,1,-1]]\n",
        "x=[[1,1,1,1],[1,-1,-1,-1],[-1,1,1,1],[-1,1,-1,1]]\n",
        "H3=HammingNet(x,e)"
      ],
      "execution_count": null,
      "outputs": []
    },
    {
      "cell_type": "code",
      "metadata": {
        "id": "IZ72tXCtfwoJ",
        "outputId": "871f31c2-a9d7-4aab-bc02-e5ae2c85aa9c",
        "colab": {
          "base_uri": "https://localhost:8080/",
          "height": 85
        }
      },
      "source": [
        "H3.train()"
      ],
      "execution_count": null,
      "outputs": [
        {
          "output_type": "stream",
          "text": [
            "The value of y1=3.0 is the number of components input vector x1 and e1 agreed.\n",
            "The value of y2=3.0 is the number of components input vector x2 and e2 agreed.\n",
            "The value of y1=4.0 is the number of components input vector x3 and e1 agreed.\n",
            "The value of y1=3.0 is the number of components input vector x4 and e1 agreed.\n"
          ],
          "name": "stdout"
        }
      ]
    },
    {
      "cell_type": "code",
      "metadata": {
        "id": "HgbV5fMOfyA8"
      },
      "source": [
        ""
      ],
      "execution_count": null,
      "outputs": []
    }
  ]
}