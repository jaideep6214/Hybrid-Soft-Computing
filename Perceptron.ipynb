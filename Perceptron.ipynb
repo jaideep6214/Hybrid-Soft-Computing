{
  "nbformat": 4,
  "nbformat_minor": 0,
  "metadata": {
    "colab": {
      "name": "Perceptron.ipynb",
      "provenance": [],
      "authorship_tag": "ABX9TyORS9kduAU90UfZTx3Cc4xj",
      "include_colab_link": true
    },
    "kernelspec": {
      "name": "python3",
      "display_name": "Python 3"
    }
  },
  "cells": [
    {
      "cell_type": "markdown",
      "metadata": {
        "id": "view-in-github",
        "colab_type": "text"
      },
      "source": [
        "<a href=\"https://colab.research.google.com/github/jaideep6214/Hybrid-Soft-Computing/blob/main/Perceptron.ipynb\" target=\"_parent\"><img src=\"https://colab.research.google.com/assets/colab-badge.svg\" alt=\"Open In Colab\"/></a>"
      ]
    },
    {
      "cell_type": "markdown",
      "metadata": {
        "id": "o2pSumXBVH3q"
      },
      "source": [
        "## **Perceptron**"
      ]
    },
    {
      "cell_type": "code",
      "metadata": {
        "id": "NibdYxCIIeYl"
      },
      "source": [
        "class Perceptron():\n",
        "  def __init__(self,x,t,alpha):\n",
        "    self.x=x\n",
        "    self.w=[0 for i in range(len(x[0]))]\n",
        "    self.t=t\n",
        "    self.alpha=alpha\n",
        "  def epoch(self,n):\n",
        "    for i in range(n):\n",
        "      print(\"Epoch\"+str(i+1))\n",
        "      self.train()\n",
        "\n",
        "  def train(self):\n",
        "\n",
        "    print(\"x1 x2 1 yin t yout dw1 dw2 db w1 w2 b\")\n",
        "\n",
        "    for i in  range(len(self.x)):\n",
        "      yin=0\n",
        "      for y in range(len(self.w)):\n",
        "        yin+=self.x[i][y]*self.w[y]\n",
        "        print(str(self.x[i][y])+\"  \", end=\"\")\n",
        "      print(str(yin)+\"  \", end=\"\")\n",
        "      self.yo=self.threshold(yin)\n",
        "\n",
        "      print(str(self.t[i])+\"  \"+str(self.yo)+\"  \", end=\"\")\n",
        "      \n",
        "      if(self.yo!=self.t[i]):\n",
        "        for y in range(len(self.w)):\n",
        "          dw=self.alpha*self.t[i]*self.x[i][y]\n",
        "          print(str(dw)+\"  \", end=\"\")\n",
        "          self.w[y]=self.w[y]+dw\n",
        "      else:\n",
        "        print(\"0  0  0  \", end=\"\")\n",
        "      for y in range(len(self.w)):\n",
        "        print(str(self.w[y])+\"  \", end=\"\")\n",
        "      print()\n",
        "      \n",
        "\n",
        "  def threshold (self,yin):\n",
        "    if(yin>0):\n",
        "      return 1\n",
        "    elif(yin==0):\n",
        "      return 0\n",
        "    else:\n",
        "      return -1"
      ],
      "execution_count": 18,
      "outputs": []
    },
    {
      "cell_type": "markdown",
      "metadata": {
        "id": "F1jxjjrXVQXp"
      },
      "source": [
        "# **AND Function**"
      ]
    },
    {
      "cell_type": "code",
      "metadata": {
        "id": "J--jGi6dMtwQ"
      },
      "source": [
        "x=[[1,1,1],[1,-1,1],[-1,1,1],[-1,-1,1]]\n",
        "t=[1,-1,-1,-1]\n",
        "alpha=1\n",
        "Perceptron_AND=Perceptron(x,t,alpha)"
      ],
      "execution_count": 24,
      "outputs": []
    },
    {
      "cell_type": "code",
      "metadata": {
        "id": "uGGBnzDBNTCj",
        "outputId": "ac43b853-48e4-4204-bf9b-f0fdacae6749",
        "colab": {
          "base_uri": "https://localhost:8080/",
          "height": 102
        }
      },
      "source": [
        "Perceptron_AND.train()"
      ],
      "execution_count": 23,
      "outputs": [
        {
          "output_type": "stream",
          "text": [
            "x1 x2 1 yin t yout dw1 dw2 db w1 w2 b\n",
            "1  1  1  0  1  0  1  1  1  1  1  1  \n",
            "1  -1  1  1  -1  1  -1  1  -1  0  2  0  \n",
            "-1  1  1  2  -1  1  1  -1  -1  1  1  -1  \n",
            "-1  -1  1  -3  -1  -1  0  0  0  1  1  -1  \n"
          ],
          "name": "stdout"
        }
      ]
    },
    {
      "cell_type": "code",
      "metadata": {
        "id": "LG3EZC2hNWNm",
        "outputId": "100585af-0875-4373-f1f3-706762e9ecf5",
        "colab": {
          "base_uri": "https://localhost:8080/",
          "height": 221
        }
      },
      "source": [
        "Perceptron_AND.epoch(2)"
      ],
      "execution_count": 25,
      "outputs": [
        {
          "output_type": "stream",
          "text": [
            "Epoch1\n",
            "x1 x2 1 yin t yout dw1 dw2 db w1 w2 b\n",
            "1  1  1  0  1  0  1  1  1  1  1  1  \n",
            "1  -1  1  1  -1  1  -1  1  -1  0  2  0  \n",
            "-1  1  1  2  -1  1  1  -1  -1  1  1  -1  \n",
            "-1  -1  1  -3  -1  -1  0  0  0  1  1  -1  \n",
            "Epoch2\n",
            "x1 x2 1 yin t yout dw1 dw2 db w1 w2 b\n",
            "1  1  1  1  1  1  0  0  0  1  1  -1  \n",
            "1  -1  1  -1  -1  -1  0  0  0  1  1  -1  \n",
            "-1  1  1  -1  -1  -1  0  0  0  1  1  -1  \n",
            "-1  -1  1  -3  -1  -1  0  0  0  1  1  -1  \n"
          ],
          "name": "stdout"
        }
      ]
    },
    {
      "cell_type": "markdown",
      "metadata": {
        "id": "7JDTZZ3RVhiP"
      },
      "source": [
        "# **OR Function**"
      ]
    },
    {
      "cell_type": "code",
      "metadata": {
        "id": "Wu9WiaANVjbh"
      },
      "source": [
        "x=[[1,1,1],[1,-1,1],[-1,1,1],[-1,-1,1]]\n",
        "t=[1,1,1,-1]\n",
        "alpha=1\n",
        "Perceptron_OR=Perceptron(x,t,alpha)"
      ],
      "execution_count": 28,
      "outputs": []
    },
    {
      "cell_type": "code",
      "metadata": {
        "id": "K43Ssf9rVjd5",
        "outputId": "4407996e-6cd5-4f51-9533-ae8935d3bc8a",
        "colab": {
          "base_uri": "https://localhost:8080/",
          "height": 102
        }
      },
      "source": [
        "Perceptron_OR.train()"
      ],
      "execution_count": 27,
      "outputs": [
        {
          "output_type": "stream",
          "text": [
            "x1 x2 1 yin t yout dw1 dw2 db w1 w2 b\n",
            "1  1  1  0  1  0  1  1  1  1  1  1  \n",
            "1  -1  1  1  1  1  0  0  0  1  1  1  \n",
            "-1  1  1  1  1  1  0  0  0  1  1  1  \n",
            "-1  -1  1  -1  -1  -1  0  0  0  1  1  1  \n"
          ],
          "name": "stdout"
        }
      ]
    },
    {
      "cell_type": "code",
      "metadata": {
        "id": "tKfw21ppVwPh",
        "outputId": "660e2991-e0a9-43f6-8c45-ed9556489277",
        "colab": {
          "base_uri": "https://localhost:8080/",
          "height": 221
        }
      },
      "source": [
        "Perceptron_OR.epoch(2)"
      ],
      "execution_count": 29,
      "outputs": [
        {
          "output_type": "stream",
          "text": [
            "Epoch1\n",
            "x1 x2 1 yin t yout dw1 dw2 db w1 w2 b\n",
            "1  1  1  0  1  0  1  1  1  1  1  1  \n",
            "1  -1  1  1  1  1  0  0  0  1  1  1  \n",
            "-1  1  1  1  1  1  0  0  0  1  1  1  \n",
            "-1  -1  1  -1  -1  -1  0  0  0  1  1  1  \n",
            "Epoch2\n",
            "x1 x2 1 yin t yout dw1 dw2 db w1 w2 b\n",
            "1  1  1  3  1  1  0  0  0  1  1  1  \n",
            "1  -1  1  1  1  1  0  0  0  1  1  1  \n",
            "-1  1  1  1  1  1  0  0  0  1  1  1  \n",
            "-1  -1  1  -1  -1  -1  0  0  0  1  1  1  \n"
          ],
          "name": "stdout"
        }
      ]
    },
    {
      "cell_type": "markdown",
      "metadata": {
        "id": "jSnab8HoV9SQ"
      },
      "source": [
        "## **AND_NOT Function**"
      ]
    },
    {
      "cell_type": "code",
      "metadata": {
        "id": "lsp-IsvNPCKX"
      },
      "source": [
        "x=[[1,1,1],[1,-1,1],[-1,1,1],[-1,-1,1]]\n",
        "t=[-1,1,-1,-1]\n",
        "alpha=1\n",
        "Perceptron_AND_NOT=Perceptron(x,t,alpha)"
      ],
      "execution_count": 34,
      "outputs": []
    },
    {
      "cell_type": "code",
      "metadata": {
        "id": "dqbJEcSEPPU6",
        "outputId": "714a4035-385d-478a-8964-f3adf8e63399",
        "colab": {
          "base_uri": "https://localhost:8080/",
          "height": 102
        }
      },
      "source": [
        "Perceptron_AND_NOT.train()"
      ],
      "execution_count": 33,
      "outputs": [
        {
          "output_type": "stream",
          "text": [
            "x1 x2 1 yin t yout dw1 dw2 db w1 w2 b\n",
            "1  1  1  0  -1  0  -1  -1  -1  -1  -1  -1  \n",
            "1  -1  1  -1  1  -1  1  -1  1  0  -2  0  \n",
            "-1  1  1  -2  -1  -1  0  0  0  0  -2  0  \n",
            "-1  -1  1  2  -1  1  1  1  -1  1  -1  -1  \n"
          ],
          "name": "stdout"
        }
      ]
    },
    {
      "cell_type": "code",
      "metadata": {
        "id": "OM52aMFePZ3X",
        "outputId": "edb5a8a9-b68c-4d08-f474-c1984d148a65",
        "colab": {
          "base_uri": "https://localhost:8080/",
          "height": 221
        }
      },
      "source": [
        "Perceptron_AND_NOT.epoch(2)"
      ],
      "execution_count": 35,
      "outputs": [
        {
          "output_type": "stream",
          "text": [
            "Epoch1\n",
            "x1 x2 1 yin t yout dw1 dw2 db w1 w2 b\n",
            "1  1  1  0  -1  0  -1  -1  -1  -1  -1  -1  \n",
            "1  -1  1  -1  1  -1  1  -1  1  0  -2  0  \n",
            "-1  1  1  -2  -1  -1  0  0  0  0  -2  0  \n",
            "-1  -1  1  2  -1  1  1  1  -1  1  -1  -1  \n",
            "Epoch2\n",
            "x1 x2 1 yin t yout dw1 dw2 db w1 w2 b\n",
            "1  1  1  -1  -1  -1  0  0  0  1  -1  -1  \n",
            "1  -1  1  1  1  1  0  0  0  1  -1  -1  \n",
            "-1  1  1  -3  -1  -1  0  0  0  1  -1  -1  \n",
            "-1  -1  1  -1  -1  -1  0  0  0  1  -1  -1  \n"
          ],
          "name": "stdout"
        }
      ]
    },
    {
      "cell_type": "markdown",
      "metadata": {
        "id": "7DV2V9gcXzHP"
      },
      "source": [
        "# **Limitations of Perceptron**\n",
        "## 1.   Still cannot solve non linear problems\n",
        "\n",
        "\n",
        "\n",
        "\n"
      ]
    },
    {
      "cell_type": "code",
      "metadata": {
        "id": "jQFpGk6APlY1"
      },
      "source": [
        ""
      ],
      "execution_count": null,
      "outputs": []
    }
  ]
}