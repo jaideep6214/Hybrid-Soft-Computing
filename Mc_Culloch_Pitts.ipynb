{
  "nbformat": 4,
  "nbformat_minor": 0,
  "metadata": {
    "colab": {
      "name": "Mc_Culloch_Pitts.ipynb",
      "provenance": [],
      "authorship_tag": "ABX9TyNVzeRNRleKb6U3O6fSX9bN",
      "include_colab_link": true
    },
    "kernelspec": {
      "name": "python3",
      "display_name": "Python 3"
    }
  },
  "cells": [
    {
      "cell_type": "markdown",
      "metadata": {
        "id": "view-in-github",
        "colab_type": "text"
      },
      "source": [
        "<a href=\"https://colab.research.google.com/github/jaideep6214/Hybrid-Soft-Computing/blob/main/Mc_Culloch_Pitts.ipynb\" target=\"_parent\"><img src=\"https://colab.research.google.com/assets/colab-badge.svg\" alt=\"Open In Colab\"/></a>"
      ]
    },
    {
      "cell_type": "markdown",
      "metadata": {
        "id": "xKE97G-sMb3X"
      },
      "source": [
        "# **Mc Culloch Pitts**\n",
        "We need to hand code theta, We have inhinitory weights (-1) and excitatory weights (+1). It is Linearly Sepearable"
      ]
    },
    {
      "cell_type": "code",
      "metadata": {
        "id": "-5eX3jcVlwuZ"
      },
      "source": [
        "class McCulloch():\n",
        "  def __init__(self, x , w ,theta):\n",
        "    self.x=x\n",
        "    self.y=y\n",
        "    self.w=w\n",
        "    self.theta=theta\n",
        "\n",
        "  def train(self):\n",
        "    if(len(self.w)==2):\n",
        "      print(\"x1 x2 yo\")\n",
        "    else:\n",
        "      print(\"x yo\")\n",
        "    for i in  range(len(self.x)):\n",
        "      yin=0\n",
        "      for y in range(len(self.w)):\n",
        "        yin+=self.x[i][y]*self.w[y]\n",
        "        print(str(self.x[i][y])+\"  \", end=\"\")\n",
        "      print(str(self.threshold(yin))+\" \")\n",
        "      \n",
        "\n",
        "  def threshold (self,yin):\n",
        "    if(yin>=self.theta):\n",
        "      return 1\n",
        "    else:\n",
        "      return 0\n"
      ],
      "execution_count": 35,
      "outputs": []
    },
    {
      "cell_type": "markdown",
      "metadata": {
        "id": "gzrDuyaKNM-D"
      },
      "source": [
        "## **AND Function**"
      ]
    },
    {
      "cell_type": "code",
      "metadata": {
        "id": "evo_uK65nyjs"
      },
      "source": [
        "x=[[0,0],[0,1],[1,0],[1,1]]\n",
        "y=[0,0,0,1]\n",
        "w=[1,1]\n",
        "theta=2\n",
        "Mc_and=McCulloch(x,w,theta)"
      ],
      "execution_count": 36,
      "outputs": []
    },
    {
      "cell_type": "code",
      "metadata": {
        "id": "AqND8N7Kn0OP",
        "outputId": "42ae2f9a-0821-42d8-b380-60e0ee3d3b38",
        "colab": {
          "base_uri": "https://localhost:8080/",
          "height": 102
        }
      },
      "source": [
        "Mc_and.train()"
      ],
      "execution_count": 37,
      "outputs": [
        {
          "output_type": "stream",
          "text": [
            "x1 x2 yo\n",
            "0  0  0 \n",
            "0  1  0 \n",
            "1  0  0 \n",
            "1  1  1 \n"
          ],
          "name": "stdout"
        }
      ]
    },
    {
      "cell_type": "markdown",
      "metadata": {
        "id": "EY456BjNNQum"
      },
      "source": [
        "## **OR Function**"
      ]
    },
    {
      "cell_type": "code",
      "metadata": {
        "id": "pR1COCieH4TZ"
      },
      "source": [
        "x=[[0,0],[0,1],[1,0],[1,1]]\n",
        "y=[0,1,1,1]\n",
        "w=[1,1]\n",
        "theta=1\n",
        "Mc_or=McCulloch(x,w,theta)"
      ],
      "execution_count": 38,
      "outputs": []
    },
    {
      "cell_type": "code",
      "metadata": {
        "id": "tyvX3FtZKyvB",
        "outputId": "f2e84b9f-ec82-4d64-d450-a6e0cfcfa5e4",
        "colab": {
          "base_uri": "https://localhost:8080/",
          "height": 102
        }
      },
      "source": [
        "Mc_or.train()"
      ],
      "execution_count": 39,
      "outputs": [
        {
          "output_type": "stream",
          "text": [
            "x1 x2 yo\n",
            "0  0  0 \n",
            "0  1  1 \n",
            "1  0  1 \n",
            "1  1  1 \n"
          ],
          "name": "stdout"
        }
      ]
    },
    {
      "cell_type": "markdown",
      "metadata": {
        "id": "mQo5vfW4NhP3"
      },
      "source": [
        "## **AND-NOT Function**"
      ]
    },
    {
      "cell_type": "code",
      "metadata": {
        "id": "6EouAKfIK7Bh"
      },
      "source": [
        "x=[[0,0],[0,1],[1,0],[1,1]]\n",
        "y=[0,0,1,0]\n",
        "w=[1,-1]\n",
        "theta=1\n",
        "Mc_and_not=McCulloch(x,w,theta)"
      ],
      "execution_count": 40,
      "outputs": []
    },
    {
      "cell_type": "code",
      "metadata": {
        "id": "xXaokVfnLFO4",
        "outputId": "6ef99c49-6090-4ecd-eb95-c15d23315c4a",
        "colab": {
          "base_uri": "https://localhost:8080/",
          "height": 102
        }
      },
      "source": [
        "Mc_and_not.train()"
      ],
      "execution_count": 41,
      "outputs": [
        {
          "output_type": "stream",
          "text": [
            "x1 x2 yo\n",
            "0  0  0 \n",
            "0  1  0 \n",
            "1  0  1 \n",
            "1  1  0 \n"
          ],
          "name": "stdout"
        }
      ]
    },
    {
      "cell_type": "markdown",
      "metadata": {
        "id": "AzOogk1sNmdB"
      },
      "source": [
        "## **NOR Function**"
      ]
    },
    {
      "cell_type": "code",
      "metadata": {
        "id": "DH3sTgWBLHM1"
      },
      "source": [
        "x=[[0,0],[0,1],[1,0],[1,1]]\n",
        "y=[1,0,0,0]\n",
        "w=[-1,-1]\n",
        "theta=0\n",
        "Mc_nor=McCulloch(x,w,theta)"
      ],
      "execution_count": 42,
      "outputs": []
    },
    {
      "cell_type": "code",
      "metadata": {
        "id": "pAq1bVN5LILL",
        "outputId": "be357d90-a96b-455e-e7ec-05bd644ccac3",
        "colab": {
          "base_uri": "https://localhost:8080/",
          "height": 102
        }
      },
      "source": [
        "Mc_nor.train()"
      ],
      "execution_count": 43,
      "outputs": [
        {
          "output_type": "stream",
          "text": [
            "x1 x2 yo\n",
            "0  0  1 \n",
            "0  1  0 \n",
            "1  0  0 \n",
            "1  1  0 \n"
          ],
          "name": "stdout"
        }
      ]
    },
    {
      "cell_type": "markdown",
      "metadata": {
        "id": "hV9o03ulNqM_"
      },
      "source": [
        "## **NAND Function**"
      ]
    },
    {
      "cell_type": "code",
      "metadata": {
        "id": "Dll0w1hXLIOA"
      },
      "source": [
        "x=[[0,0],[0,1],[1,0],[1,1]]\n",
        "y=[1,1,1,0]\n",
        "w=[-1,-1]\n",
        "theta=-1\n",
        "Mc_nand=McCulloch(x,w,theta)"
      ],
      "execution_count": 44,
      "outputs": []
    },
    {
      "cell_type": "code",
      "metadata": {
        "id": "tU9wrcEXLLPm",
        "outputId": "1ee747a7-408b-49ba-9fbe-99f14f8d5dde",
        "colab": {
          "base_uri": "https://localhost:8080/",
          "height": 102
        }
      },
      "source": [
        "Mc_nand.train()"
      ],
      "execution_count": 45,
      "outputs": [
        {
          "output_type": "stream",
          "text": [
            "x1 x2 yo\n",
            "0  0  1 \n",
            "0  1  1 \n",
            "1  0  1 \n",
            "1  1  0 \n"
          ],
          "name": "stdout"
        }
      ]
    },
    {
      "cell_type": "markdown",
      "metadata": {
        "id": "YMNzZ-B_Nt0o"
      },
      "source": [
        "## **NOT Function**"
      ]
    },
    {
      "cell_type": "code",
      "metadata": {
        "id": "AmbKMTZGLhDL"
      },
      "source": [
        "x=[[0],[1]]\n",
        "y=[1,0]\n",
        "w=[-1]\n",
        "theta=0\n",
        "Mc_not=McCulloch(x,w,theta)"
      ],
      "execution_count": 47,
      "outputs": []
    },
    {
      "cell_type": "code",
      "metadata": {
        "id": "dsSbrJSmML5c",
        "outputId": "71da3869-f69c-4bec-f293-cf75011d079e",
        "colab": {
          "base_uri": "https://localhost:8080/",
          "height": 68
        }
      },
      "source": [
        "Mc_not.train()"
      ],
      "execution_count": 48,
      "outputs": [
        {
          "output_type": "stream",
          "text": [
            "x yo\n",
            "0  1 \n",
            "1  0 \n"
          ],
          "name": "stdout"
        }
      ]
    },
    {
      "cell_type": "markdown",
      "metadata": {
        "id": "QMvMqwC9N4cw"
      },
      "source": [
        "# **Limitations of M-P Neuron**\n",
        "## 1.   Donot take real inputs\n",
        "## 2.   Threshold is handcoded\n",
        "## 3.   All inputs equal. What if some are important\n",
        "## 4.   Non Linearly Separable not solvable ex: XOR\n",
        "\n",
        "\n",
        "\n"
      ]
    },
    {
      "cell_type": "code",
      "metadata": {
        "id": "AXmv0x49MPyi"
      },
      "source": [
        ""
      ],
      "execution_count": null,
      "outputs": []
    }
  ]
}